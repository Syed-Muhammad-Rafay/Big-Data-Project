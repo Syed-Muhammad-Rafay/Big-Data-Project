{
  "nbformat": 4,
  "nbformat_minor": 0,
  "metadata": {
    "colab": {
      "provenance": [],
      "gpuType": "T4"
    },
    "kernelspec": {
      "name": "python3",
      "display_name": "Python 3"
    },
    "language_info": {
      "name": "python"
    },
    "accelerator": "GPU"
  },
  "cells": [
    {
      "cell_type": "markdown",
      "source": [
        "#Install Java and Spark"
      ],
      "metadata": {
        "id": "ngz4QmrQzTaz"
      }
    },
    {
      "cell_type": "code",
      "source": [
        "\n",
        "!apt-get install openjdk-11-jdk-headless -qq > /dev/null\n",
        "!wget -q https://archive.apache.org/dist/spark/spark-3.3.1/spark-3.3.1-bin-hadoop3.tgz\n",
        "!tar -xzf spark-3.3.1-bin-hadoop3.tgz\n",
        "!pip install -q findspark\n"
      ],
      "metadata": {
        "id": "jdFAHdDtzVQm"
      },
      "execution_count": 26,
      "outputs": []
    },
    {
      "cell_type": "markdown",
      "source": [
        "#Set Environment"
      ],
      "metadata": {
        "id": "mNsoCk8V0ySc"
      }
    },
    {
      "cell_type": "code",
      "source": [
        "import os\n",
        "import findspark\n",
        "\n",
        "os.environ[\"JAVA_HOME\"] = \"/usr/lib/jvm/java-11-openjdk-amd64\"\n",
        "os.environ[\"SPARK_HOME\"] = \"/content/spark-3.3.1-bin-hadoop3\"\n",
        "\n",
        "findspark.init()\n"
      ],
      "metadata": {
        "id": "Rpc1JgGQ0YnX"
      },
      "execution_count": 27,
      "outputs": []
    },
    {
      "cell_type": "markdown",
      "source": [
        "#Start Spark Session"
      ],
      "metadata": {
        "id": "0_CTgnhw0s-E"
      }
    },
    {
      "cell_type": "code",
      "source": [
        "from pyspark.sql import SparkSession\n",
        "from pyspark.sql.functions import col, to_timestamp\n",
        "from pyspark.ml.feature import VectorAssembler, StandardScaler\n",
        "from pyspark.ml.classification import RandomForestClassifier\n",
        "from pyspark.ml.evaluation import MulticlassClassificationEvaluator\n",
        "from pyspark.ml import Pipeline\n",
        "\n",
        "# Step 1: Start Spark session\n",
        "spark = SparkSession.builder.appName(\"FailurePrediction\").getOrCreate()"
      ],
      "metadata": {
        "id": "GvaSs5ly0vEE"
      },
      "execution_count": 28,
      "outputs": []
    },
    {
      "cell_type": "markdown",
      "source": [
        "#Load Data\n"
      ],
      "metadata": {
        "id": "p3XLoPve0_Q4"
      }
    },
    {
      "cell_type": "code",
      "source": [
        "df = spark.read.csv(\"/content/ID Fan Clean Trends.csv\", header=True, inferSchema=True)\n",
        "df.printSchema()\n",
        "\n",
        "# Clean column names: remove problematic characters\n",
        "cleaned_columns = [col_name.replace(\" \", \"_\")\n",
        "                             .replace(\",\", \"\")\n",
        "                             .replace(\".\", \"\")\n",
        "                             .replace(\"(\", \"\")\n",
        "                             .replace(\")\", \"\")\n",
        "                             for col_name in df.columns]\n",
        "df = df.toDF(*cleaned_columns)\n",
        "\n",
        "df.show(5)\n"
      ],
      "metadata": {
        "colab": {
          "base_uri": "https://localhost:8080/"
        },
        "id": "N71DT3zG1BaB",
        "outputId": "28c3dabc-c132-4cea-e6c7-fcc80a16966b"
      },
      "execution_count": 29,
      "outputs": [
        {
          "output_type": "stream",
          "name": "stdout",
          "text": [
            "root\n",
            " |-- datetime: timestamp (nullable = true)\n",
            " |-- WEIGHTED COAL FLOW, (t/h): double (nullable = true)\n",
            " |-- GENERATOR POWER, (MW): double (nullable = true)\n",
            " |-- MAIN STEAM FLOW, (t/h): double (nullable = true)\n",
            " |-- CONCENTRATION OF DUST, (mg/m3): double (nullable = true)\n",
            " |-- ID FAN B LUBE OIL STATION OUTLET DIRVE OIL PRESS., (Mpa): double (nullable = true)\n",
            " |-- ID FAN A VARIABLE BLADE POSITION, (%): double (nullable = true)\n",
            " |-- ID FAN B VARIABLE BLADE POSITION, (%): double (nullable = true)\n",
            " |-- A IDF DMD, (%): double (nullable = true)\n",
            " |-- B IDF DMD, (%): double (nullable = true)\n",
            " |-- ID FAN A CURRENT, (A): double (nullable = true)\n",
            " |-- ID FAN B CURRENT, (A): double (nullable = true)\n",
            " |-- ID FAN A INLET FLUE GAS PRESS., (kPa): double (nullable = true)\n",
            " |-- ID FAN A OUTLET FLUE GAS PRESS., (kPa): double (nullable = true)\n",
            " |-- ID FAN B INLET FLUE GAS PRESS., (kPa): double (nullable = true)\n",
            " |-- ID FAN B OUTLET FLUE GAS PRESS., (kPa): double (nullable = true)\n",
            " |-- ID FAN A INLET FLUE GAS TEMP., (℃): double (nullable = true)\n",
            " |-- ID FAN B INLET FLUE GAS TEMP., (℃): double (nullable = true)\n",
            " |-- ID FAN A BEARING X DIRECTION VIBRATION, (mm/S): double (nullable = true)\n",
            " |-- ID FAN A BEARING Y DIRECTION VIBRATION, (mm/S): double (nullable = true)\n",
            " |-- ID FAN B BEARING X DIRECTION VIBRATION, (mm/S): double (nullable = true)\n",
            " |-- ID FAN B BEARING Y DIRECTION VIBRATION, (mm/S): double (nullable = true)\n",
            " |-- LIMESTONE FLOW, (t/h): double (nullable = true)\n",
            " |-- Target_Label: string (nullable = true)\n",
            " |-- Target_Class: integer (nullable = true)\n",
            "\n",
            "+-------------------+----------------------+------------------+-------------------+---------------------------+----------------------------------------------------+----------------------------------+----------------------------------+-----------+-----------+------------------+------------------+---------------------------------+----------------------------------+---------------------------------+----------------------------------+------------------------------+------------------------------+-------------------------------------------+-------------------------------------------+-------------------------------------------+-------------------------------------------+------------------+------------+------------+\n",
            "|           datetime|WEIGHTED_COAL_FLOW_t/h|GENERATOR_POWER_MW|MAIN_STEAM_FLOW_t/h|CONCENTRATION_OF_DUST_mg/m3|ID_FAN_B_LUBE_OIL_STATION_OUTLET_DIRVE_OIL_PRESS_Mpa|ID_FAN_A_VARIABLE_BLADE_POSITION_%|ID_FAN_B_VARIABLE_BLADE_POSITION_%|A_IDF_DMD_%|B_IDF_DMD_%|ID_FAN_A_CURRENT_A|ID_FAN_B_CURRENT_A|ID_FAN_A_INLET_FLUE_GAS_PRESS_kPa|ID_FAN_A_OUTLET_FLUE_GAS_PRESS_kPa|ID_FAN_B_INLET_FLUE_GAS_PRESS_kPa|ID_FAN_B_OUTLET_FLUE_GAS_PRESS_kPa|ID_FAN_A_INLET_FLUE_GAS_TEMP_℃|ID_FAN_B_INLET_FLUE_GAS_TEMP_℃|ID_FAN_A_BEARING_X_DIRECTION_VIBRATION_mm/S|ID_FAN_A_BEARING_Y_DIRECTION_VIBRATION_mm/S|ID_FAN_B_BEARING_X_DIRECTION_VIBRATION_mm/S|ID_FAN_B_BEARING_Y_DIRECTION_VIBRATION_mm/S|LIMESTONE_FLOW_t/h|Target_Label|Target_Class|\n",
            "+-------------------+----------------------+------------------+-------------------+---------------------------+----------------------------------------------------+----------------------------------+----------------------------------+-----------+-----------+------------------+------------------+---------------------------------+----------------------------------+---------------------------------+----------------------------------+------------------------------+------------------------------+-------------------------------------------+-------------------------------------------+-------------------------------------------+-------------------------------------------+------------------+------------+------------+\n",
            "|2024-08-01 16:03:00|               126.591|           153.799|            493.419|                      4.493|                                               4.195|                            41.013|                            32.492|     41.106|     33.113|           128.338|           138.751|                           -1.697|                            -0.058|                           -1.853|                            -0.062|                       132.808|                       119.468|                                      0.985|                                      1.515|                                      2.498|                                      3.331|             0.435|      Normal|           0|\n",
            "|2024-08-01 16:13:00|               127.078|           153.799|            493.089|                      4.505|                                               4.191|                            42.336|                            33.537|     42.136|     34.042|            129.31|           139.438|                           -1.671|                            -0.059|                            -1.89|                            -0.062|                       132.324|                       119.193|                                      0.922|                                      1.482|                                      2.391|                                      3.212|             0.442|      Normal|           0|\n",
            "|2024-08-01 16:23:00|               126.941|           154.211|            491.025|                      4.577|                                               4.184|                            40.998|                            33.163|     41.059|     33.067|           128.681|           139.323|                            -1.63|                            -0.059|                           -1.824|                            -0.062|                       132.075|                       119.061|                                      0.998|                                      1.291|                                      2.272|                                      3.113|             0.437|      Normal|           0|\n",
            "|2024-08-01 16:33:00|               127.689|           153.799|             492.95|                      4.522|                                               4.192|                              42.6|                             34.62|      40.98|     32.961|           129.883|           141.898|                           -1.891|                            -0.059|                           -2.071|                            -0.062|                       131.841|                       118.977|                                      1.047|                                      1.483|                                      2.327|                                      3.155|             0.431|      Normal|           0|\n",
            "|2024-08-01 16:43:00|               125.003|           153.731|            489.371|                       4.62|                                               4.199|                            40.792|                            33.547|     40.856|     32.866|           127.765|           140.124|                           -1.728|                            -0.059|                           -1.901|                            -0.061|                        131.75|                       118.934|                                      1.052|                                      1.764|                                      2.477|                                      3.266|             0.426|      Normal|           0|\n",
            "+-------------------+----------------------+------------------+-------------------+---------------------------+----------------------------------------------------+----------------------------------+----------------------------------+-----------+-----------+------------------+------------------+---------------------------------+----------------------------------+---------------------------------+----------------------------------+------------------------------+------------------------------+-------------------------------------------+-------------------------------------------+-------------------------------------------+-------------------------------------------+------------------+------------+------------+\n",
            "only showing top 5 rows\n",
            "\n"
          ]
        }
      ]
    },
    {
      "cell_type": "markdown",
      "source": [
        "#Cleaning Data"
      ],
      "metadata": {
        "id": "yD7AuOHov5VP"
      }
    },
    {
      "cell_type": "code",
      "source": [
        "#Setting Date Time Index in Spark\n",
        "df = df.withColumn(\"datetime\", to_timestamp(\"datetime\", \"M/d/yyyy H:mm\"))\n",
        "\n"
      ],
      "metadata": {
        "id": "NCU9ah0JupJP"
      },
      "execution_count": 30,
      "outputs": []
    },
    {
      "cell_type": "markdown",
      "source": [
        "#Machine Learning"
      ],
      "metadata": {
        "id": "0f_CQjEDwBrT"
      }
    },
    {
      "cell_type": "code",
      "source": [
        "# Filter columns\n",
        "drop_cols = [\"Target_Label\", \"GENERATOR POWER, (MW)\", \"datetime\"]\n",
        "feature_cols = [col for col in df.columns if col not in drop_cols + [\"Target_Class\"]]\n",
        "\n",
        "#Creating train/test Splits\n",
        "failure_start = \"2024-09-01 10:03:00\"\n",
        "failure_end = \"2024-09-02 10:03:00\"\n",
        "\n",
        "failure_df = df.filter((col(\"datetime\") >= failure_start) & (col(\"datetime\") <= failure_end))\n",
        "normal_df = df.filter(~((col(\"datetime\") >= failure_start) & (col(\"datetime\") <= failure_end)))\n",
        "\n",
        "failure_count = failure_df.count()\n",
        "half = failure_count // 2\n",
        "\n",
        "failure_train = failure_df.limit(half)\n",
        "failure_test = failure_df.subtract(failure_train)\n",
        "\n",
        "normal_split = normal_df.randomSplit([0.8, 0.2], seed=42)\n",
        "normal_train, normal_test = normal_split\n",
        "\n",
        "train_df = failure_train.union(normal_train)\n",
        "test_df = failure_test.union(normal_test)\n",
        "\n",
        "# Drop datetime from train and test sets\n",
        "train_df = train_df.drop(\"datetime\")\n",
        "test_df = test_df.drop(\"datetime\")\n"
      ],
      "metadata": {
        "id": "lIychntuvNvX"
      },
      "execution_count": 31,
      "outputs": []
    },
    {
      "cell_type": "code",
      "source": [
        "#Create ML Pipeline\n",
        "\n",
        "assembler = VectorAssembler(inputCols=feature_cols, outputCol=\"features_vec\")\n",
        "scaler = StandardScaler(inputCol=\"features_vec\", outputCol=\"features\")\n",
        "rf = RandomForestClassifier(featuresCol=\"features\", labelCol=\"Target_Class\", numTrees=100)\n",
        "\n",
        "pipeline = Pipeline(stages=[assembler, scaler, rf])\n",
        "model = pipeline.fit(train_df)\n",
        "\n",
        "# Prediction\n",
        "predictions = model.transform(test_df)\n"
      ],
      "metadata": {
        "id": "yEDQzFvgvdaK"
      },
      "execution_count": 32,
      "outputs": []
    },
    {
      "cell_type": "code",
      "source": [
        "# Evaluating the Model\n",
        "\n",
        "evaluator = MulticlassClassificationEvaluator(\n",
        "    labelCol=\"Target_Class\", predictionCol=\"prediction\", metricName=\"accuracy\")\n",
        "accuracy = evaluator.evaluate(predictions)\n",
        "\n",
        "print(f\"✅ Accuracy: {accuracy:.4f}\")\n",
        "\n",
        "# Optional: Show confusion matrix (summary)\n",
        "print(\"\\n🔍 Confusion Matrix:\")\n",
        "predictions.groupBy(\"Target_Class\", \"prediction\").count().orderBy(\"Target_Class\", \"prediction\").show()\n"
      ],
      "metadata": {
        "colab": {
          "base_uri": "https://localhost:8080/"
        },
        "id": "OERsMq5MvoNq",
        "outputId": "76036588-2a29-41a0-f300-c69684842390"
      },
      "execution_count": 33,
      "outputs": [
        {
          "output_type": "stream",
          "name": "stdout",
          "text": [
            "✅ Accuracy: 0.9977\n",
            "\n",
            "🔍 Confusion Matrix:\n",
            "+------------+----------+-----+\n",
            "|Target_Class|prediction|count|\n",
            "+------------+----------+-----+\n",
            "|           0|       0.0| 5216|\n",
            "|           1|       0.0|   12|\n",
            "|           1|       1.0|   60|\n",
            "+------------+----------+-----+\n",
            "\n"
          ]
        }
      ]
    }
  ]
}